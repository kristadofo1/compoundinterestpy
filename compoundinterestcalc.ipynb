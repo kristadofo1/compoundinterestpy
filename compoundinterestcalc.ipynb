{
  "nbformat": 4,
  "nbformat_minor": 0,
  "metadata": {
    "colab": {
      "name": "Copy of compoundinterestcalc .ipynb",
      "provenance": []
    },
    "kernelspec": {
      "name": "python3",
      "display_name": "Python 3"
    },
    "language_info": {
      "name": "python"
    }
  },
  "cells": [
    {
      "cell_type": "markdown",
      "metadata": {
        "id": "UXVwVKuD4Rki"
      },
      "source": [
        "#Purpose"
      ]
    },
    {
      "cell_type": "markdown",
      "metadata": {
        "id": "VSAmq9E4-FWv"
      },
      "source": [
        "The purpose of this notebook is to use python to create a program that calculates compound interest based on data entered by the user."
      ]
    },
    {
      "cell_type": "markdown",
      "metadata": {
        "id": "i6EX4kAc4jV6"
      },
      "source": [
        "#Inputs"
      ]
    },
    {
      "cell_type": "code",
      "metadata": {
        "colab": {
          "base_uri": "https://localhost:8080/"
        },
        "id": "2hxVkHK_wat_",
        "outputId": "5f1a309f-d67c-42fd-e0f2-b5f7d3d98060"
      },
      "source": [
        "print('How many years do you plan on saving?')\n",
        "years = int(input('Enter years:   '))"
      ],
      "execution_count": null,
      "outputs": [
        {
          "output_type": "stream",
          "text": [
            "How many years do you plan on saving?\n",
            "Enter years:   10\n"
          ],
          "name": "stdout"
        }
      ]
    },
    {
      "cell_type": "code",
      "metadata": {
        "colab": {
          "base_uri": "https://localhost:8080/"
        },
        "id": "zQb5tppRxEvE",
        "outputId": "9d8a189e-51fd-496f-b1b1-b3d7a66aaa57"
      },
      "source": [
        "print('What is the current balance of your account?')\n",
        "current_balance = float(input('Enter current amount of money:   '))"
      ],
      "execution_count": null,
      "outputs": [
        {
          "output_type": "stream",
          "text": [
            "What is the current balance of your account?\n",
            "Enter current amount of money:   1000\n"
          ],
          "name": "stdout"
        }
      ]
    },
    {
      "cell_type": "code",
      "metadata": {
        "colab": {
          "base_uri": "https://localhost:8080/"
        },
        "id": "nTMG-YaIxaYj",
        "outputId": "36d5b829-90ac-4cf0-c3fd-e8e5b8acb9f2"
      },
      "source": [
        "print('How much money do you plan to invest monthly?')\n",
        "monthly_investment = float(input('Monthly deposit amount:   '))"
      ],
      "execution_count": null,
      "outputs": [
        {
          "output_type": "stream",
          "text": [
            "How much money do you plan to invest monthly?\n",
            "Monthly deposit amount:   100\n"
          ],
          "name": "stdout"
        }
      ]
    },
    {
      "cell_type": "code",
      "metadata": {
        "colab": {
          "base_uri": "https://localhost:8080/"
        },
        "id": "PrdgnDqKxxET",
        "outputId": "103bc90c-f926-4209-ed47-02a0fee8e3cf"
      },
      "source": [
        "print('Whaat is the yearly interest of the investment?')\n",
        "yearly_interest = float(input('Interest as decimal ex. 15% = o.15:   '))"
      ],
      "execution_count": null,
      "outputs": [
        {
          "output_type": "stream",
          "text": [
            "Whaat is the yearly interest of the investment?\n",
            "Interest as decimal ex. 15% = o.15:   .07\n"
          ],
          "name": "stdout"
        }
      ]
    },
    {
      "cell_type": "code",
      "metadata": {
        "colab": {
          "base_uri": "https://localhost:8080/"
        },
        "id": "RU1fZPs8y5Rb",
        "outputId": "9a701348-f79f-4c4b-9bd4-435ad6f9cbc7"
      },
      "source": [
        "print('   ')"
      ],
      "execution_count": null,
      "outputs": [
        {
          "output_type": "stream",
          "text": [
            "   \n"
          ],
          "name": "stdout"
        }
      ]
    },
    {
      "cell_type": "markdown",
      "metadata": {
        "id": "cPxSMnK64nro"
      },
      "source": [
        "#Calculations"
      ]
    },
    {
      "cell_type": "code",
      "metadata": {
        "id": "EoSIA3dFy9W-"
      },
      "source": [
        "monthly_investment = (monthly_investment * 12)\n",
        "final_amaount = 0"
      ],
      "execution_count": null,
      "outputs": []
    },
    {
      "cell_type": "code",
      "metadata": {
        "id": "whnKQ4zszQr-"
      },
      "source": [
        "for i in range(0,years):\n",
        "  if final_amaount == 0:\n",
        "    final_amaount = current_balance\n",
        "\n",
        "    final_amaount = (final_amaount + monthly_investment) * (1 + yearly_interest)"
      ],
      "execution_count": null,
      "outputs": []
    },
    {
      "cell_type": "code",
      "metadata": {
        "colab": {
          "base_uri": "https://localhost:8080/"
        },
        "id": "EesUPiJez2bk",
        "outputId": "18fca0f5-d26a-47c7-980d-68c91030b6b1"
      },
      "source": [
        "print('Amount of money after {} years:   '.format(years) + str(final_amaount))"
      ],
      "execution_count": null,
      "outputs": [
        {
          "output_type": "stream",
          "text": [
            "Amount of money after 10 years:   2354.0\n"
          ],
          "name": "stdout"
        }
      ]
    }
  ]
}